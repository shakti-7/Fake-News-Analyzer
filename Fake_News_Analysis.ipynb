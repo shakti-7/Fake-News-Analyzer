{
  "nbformat": 4,
  "nbformat_minor": 0,
  "metadata": {
    "colab": {
      "name": "Fake_News_Analysis.ipynb",
      "provenance": [],
      "collapsed_sections": [
        "aNtjpwJOfeVy",
        "UPYCv24RkXZ0"
      ]
    },
    "kernelspec": {
      "display_name": "Python 3",
      "name": "python3"
    },
    "language_info": {
      "name": "python"
    }
  },
  "cells": [
    {
      "cell_type": "markdown",
      "metadata": {
        "id": "APB4TroWs_m2"
      },
      "source": [
        "# **Fake News Predictor** \n",
        "\n",
        "Sonali Shanbhag, Shakti Balaji, Riddhi Gupta (Team 1)\n"
      ]
    },
    {
      "cell_type": "code",
      "metadata": {
        "colab": {
          "base_uri": "https://localhost:8080/"
        },
        "id": "FxUn9ilMK00W",
        "outputId": "a3011526-906d-477b-e0d2-725adde5c354"
      },
      "source": [
        "from google.colab import drive\n",
        "drive.mount('/content/drive')"
      ],
      "execution_count": null,
      "outputs": [
        {
          "output_type": "stream",
          "name": "stdout",
          "text": [
            "Mounted at /content/drive\n"
          ]
        }
      ]
    },
    {
      "cell_type": "markdown",
      "metadata": {
        "id": "JXCOg0RytUgS"
      },
      "source": [
        "### Step 1: Import required libraries, packages and corpora"
      ]
    },
    {
      "cell_type": "code",
      "metadata": {
        "id": "pkxzjMdWK6oi"
      },
      "source": [
        "import pandas as pd\n",
        "import numpy as np\n",
        "import re \n",
        "import nltk\n",
        "import sklearn\n",
        "from nltk.corpus import stopwords \n",
        "from nltk.stem.porter import PorterStemmer\n",
        "from sklearn.preprocessing import LabelEncoder\n",
        "from sklearn.model_selection import train_test_split\n",
        "from sklearn.feature_extraction.text import CountVectorizer\n",
        "from tensorflow.keras.models import Sequential\n",
        "from tensorflow.keras import layers\n",
        "from tensorflow.keras.layers import Dense\n",
        "import matplotlib.pyplot as plt\n",
        "import seaborn"
      ],
      "execution_count": null,
      "outputs": []
    },
    {
      "cell_type": "code",
      "metadata": {
        "colab": {
          "base_uri": "https://localhost:8080/"
        },
        "id": "yqQKzewMLKfD",
        "outputId": "dbaf16bb-649b-4a78-f880-3496c6b55e89"
      },
      "source": [
        "#Download the corpus of stopwords from NLTK (Natural Language Toolkit)\n",
        "nltk.download(\"stopwords\") \n",
        "#Instantiate ProterStemmer()\n",
        "ps = PorterStemmer()"
      ],
      "execution_count": null,
      "outputs": [
        {
          "output_type": "stream",
          "name": "stdout",
          "text": [
            "[nltk_data] Downloading package stopwords to /root/nltk_data...\n",
            "[nltk_data]   Unzipping corpora/stopwords.zip.\n"
          ]
        }
      ]
    },
    {
      "cell_type": "markdown",
      "metadata": {
        "id": "7hUM6HfVt_3d"
      },
      "source": [
        "### Step 2. Read the dataset"
      ]
    },
    {
      "cell_type": "code",
      "metadata": {
        "id": "0uyQMvzXLxbu"
      },
      "source": [
        "dataset = pd.read_csv(\"/content/drive/MyDrive/covid-news-dataset.csv\")"
      ],
      "execution_count": null,
      "outputs": []
    },
    {
      "cell_type": "code",
      "metadata": {
        "colab": {
          "base_uri": "https://localhost:8080/",
          "height": 206
        },
        "id": "ItaV2PxqMGGm",
        "outputId": "ca5ee25c-e48c-471f-921d-78a0403dee69"
      },
      "source": [
        "dataset.head()"
      ],
      "execution_count": null,
      "outputs": [
        {
          "output_type": "execute_result",
          "data": {
            "text/html": [
              "<div>\n",
              "<style scoped>\n",
              "    .dataframe tbody tr th:only-of-type {\n",
              "        vertical-align: middle;\n",
              "    }\n",
              "\n",
              "    .dataframe tbody tr th {\n",
              "        vertical-align: top;\n",
              "    }\n",
              "\n",
              "    .dataframe thead th {\n",
              "        text-align: right;\n",
              "    }\n",
              "</style>\n",
              "<table border=\"1\" class=\"dataframe\">\n",
              "  <thead>\n",
              "    <tr style=\"text-align: right;\">\n",
              "      <th></th>\n",
              "      <th>id</th>\n",
              "      <th>tweet</th>\n",
              "      <th>label</th>\n",
              "    </tr>\n",
              "  </thead>\n",
              "  <tbody>\n",
              "    <tr>\n",
              "      <th>0</th>\n",
              "      <td>1</td>\n",
              "      <td>The CDC currently reports 99031 deaths. In gen...</td>\n",
              "      <td>real</td>\n",
              "    </tr>\n",
              "    <tr>\n",
              "      <th>1</th>\n",
              "      <td>2</td>\n",
              "      <td>States reported 1121 deaths a small rise from ...</td>\n",
              "      <td>real</td>\n",
              "    </tr>\n",
              "    <tr>\n",
              "      <th>2</th>\n",
              "      <td>3</td>\n",
              "      <td>Politically Correct Woman (Almost) Uses Pandem...</td>\n",
              "      <td>fake</td>\n",
              "    </tr>\n",
              "    <tr>\n",
              "      <th>3</th>\n",
              "      <td>4</td>\n",
              "      <td>#IndiaFightsCorona: We have 1524 #COVID testin...</td>\n",
              "      <td>real</td>\n",
              "    </tr>\n",
              "    <tr>\n",
              "      <th>4</th>\n",
              "      <td>5</td>\n",
              "      <td>Populous states can generate large case counts...</td>\n",
              "      <td>real</td>\n",
              "    </tr>\n",
              "  </tbody>\n",
              "</table>\n",
              "</div>"
            ],
            "text/plain": [
              "   id                                              tweet label\n",
              "0   1  The CDC currently reports 99031 deaths. In gen...  real\n",
              "1   2  States reported 1121 deaths a small rise from ...  real\n",
              "2   3  Politically Correct Woman (Almost) Uses Pandem...  fake\n",
              "3   4  #IndiaFightsCorona: We have 1524 #COVID testin...  real\n",
              "4   5  Populous states can generate large case counts...  real"
            ]
          },
          "metadata": {},
          "execution_count": 5
        }
      ]
    },
    {
      "cell_type": "markdown",
      "metadata": {
        "id": "_jOx2d7UuNBk"
      },
      "source": [
        "### Step 3. Data Pre-Processing"
      ]
    },
    {
      "cell_type": "code",
      "metadata": {
        "colab": {
          "base_uri": "https://localhost:8080/"
        },
        "id": "gX_saFx4Oohs",
        "outputId": "b526856c-6d0b-4d43-d10b-a9e257fdad11"
      },
      "source": [
        "dataset.shape"
      ],
      "execution_count": null,
      "outputs": [
        {
          "output_type": "execute_result",
          "data": {
            "text/plain": [
              "(6420, 3)"
            ]
          },
          "metadata": {},
          "execution_count": 6
        }
      ]
    },
    {
      "cell_type": "markdown",
      "metadata": {
        "id": "cIQgpOpTuSEl"
      },
      "source": [
        "#### i. Check for Missing Values (NaN)"
      ]
    },
    {
      "cell_type": "code",
      "metadata": {
        "id": "Ilu4O8c2NZ3F"
      },
      "source": [
        "dataset = dataset.dropna(how='any',axis=0) "
      ],
      "execution_count": null,
      "outputs": []
    },
    {
      "cell_type": "code",
      "metadata": {
        "colab": {
          "base_uri": "https://localhost:8080/"
        },
        "id": "Az07bspsOmfj",
        "outputId": "bcd5ef2f-beef-4117-bef1-0bb401e5687c"
      },
      "source": [
        "dataset.isnull().sum()"
      ],
      "execution_count": null,
      "outputs": [
        {
          "output_type": "execute_result",
          "data": {
            "text/plain": [
              "id       0\n",
              "tweet    0\n",
              "label    0\n",
              "dtype: int64"
            ]
          },
          "metadata": {},
          "execution_count": 8
        }
      ]
    },
    {
      "cell_type": "markdown",
      "metadata": {
        "id": "S2fqwAXsunl6"
      },
      "source": [
        "#### ii. Pre-Processing Function\n",
        "\n",
        "Using Regular Expressions, remove all non-textual data including symbols, special characters, emojis and numbers.\n",
        "Normalize the case by converting all to lower case.\n",
        "Split the sentences into words, reduce the words to their stems and remove any stop words.\n",
        "Rejoin the split words with a whitespace to form a simple, cleaned sentence.\n"
      ]
    },
    {
      "cell_type": "code",
      "metadata": {
        "id": "wDxweT4OP4fo"
      },
      "source": [
        "def preprocess_column(col_name, col_length):\n",
        "  preprocessed_data = []\n",
        "  for i in range(0,col_length):\n",
        "        col_value = dataset[col_name][i]\n",
        "        col_value = re.sub('[^a-zA-Z]', ' ', col_value)\n",
        "        col_value = col_value.lower()\n",
        "        col_value = col_value.split()\n",
        "        col_value = [ps.stem(word) for word in col_value if not word in set(stopwords.words('english'))]\n",
        "        col_value = ' '.join(col_value)\n",
        "        preprocessed_data.append(col_value)\n",
        "  return preprocessed_data"
      ],
      "execution_count": null,
      "outputs": []
    },
    {
      "cell_type": "code",
      "metadata": {
        "id": "5cFb4j-uOzp4"
      },
      "source": [
        "#Calling the function for column \"tweet\"\n",
        "preprocessed_train = preprocess_column(\"tweet\",6420)"
      ],
      "execution_count": null,
      "outputs": []
    },
    {
      "cell_type": "markdown",
      "metadata": {
        "id": "4KEOSUWFvid2"
      },
      "source": [
        "#### iii. Handling Categorical Values- Label Encoding\n",
        "Replace the categories in the dependent (y) column with numeric values for easier processing in the machine-readable form.\n",
        "Here, we have \"Real\" and \"Fake\" which will be assigned values \"1\" and \"0\" respectively (according to alphabetical order)"
      ]
    },
    {
      "cell_type": "code",
      "metadata": {
        "id": "LkOBr92pZJ1u"
      },
      "source": [
        "le=LabelEncoder()\n",
        "dataset['label']=le.fit_transform(dataset['label'])"
      ],
      "execution_count": null,
      "outputs": []
    },
    {
      "cell_type": "markdown",
      "metadata": {
        "id": "aNtjpwJOfeVy"
      },
      "source": [
        "### **Count Vectorizer**"
      ]
    },
    {
      "cell_type": "markdown",
      "metadata": {
        "id": "hN3heR17wFUB"
      },
      "source": [
        "### Step 4. Feature Extraction using Count Vectorizer\n",
        "\n",
        "Convert a collection of text documents to a sparse matrix representation of token counts. Or, quite simply, it is used to transform a given text into a vector on the basis of the frequency (count) of each word that occurs in the entire text."
      ]
    },
    {
      "cell_type": "code",
      "metadata": {
        "id": "WK8IsMuDQvAW"
      },
      "source": [
        "cv = CountVectorizer(max_features = 2000)\n",
        "x = cv.fit_transform(preprocessed_train).toarray() #preprocessed tweets in the form of a sparse matrix"
      ],
      "execution_count": null,
      "outputs": []
    },
    {
      "cell_type": "code",
      "metadata": {
        "id": "Mc-WJru8wior"
      },
      "source": [
        "#Define the dependent variable (prediction column)\n",
        "y = dataset.iloc[:,2:3].values"
      ],
      "execution_count": null,
      "outputs": []
    },
    {
      "cell_type": "markdown",
      "metadata": {
        "id": "-8DO2oi-weuA"
      },
      "source": [
        "### Step 5. Split the dataset into Train and Test sets\n",
        "\n",
        "Here, we are using a 20-80 ratio, assigning an alias of \"0\" to this particular random state."
      ]
    },
    {
      "cell_type": "code",
      "metadata": {
        "id": "X_OoM6w9XiaJ"
      },
      "source": [
        "x_train,x_test,y_train,y_test = train_test_split(x,y,test_size = 0.2, random_state = 0)"
      ],
      "execution_count": null,
      "outputs": []
    },
    {
      "cell_type": "code",
      "metadata": {
        "colab": {
          "base_uri": "https://localhost:8080/"
        },
        "id": "DrSQPe6FYQiK",
        "outputId": "26a7a596-f6e0-4278-9f10-5ce631216121"
      },
      "source": [
        "print(x_train.shape)\n",
        "print(y_train.shape)\n",
        "print(x_test.shape)\n",
        "print(y_test.shape)"
      ],
      "execution_count": null,
      "outputs": [
        {
          "output_type": "stream",
          "name": "stdout",
          "text": [
            "(5136, 2000)\n",
            "(5136, 1)\n",
            "(1284, 2000)\n",
            "(1284, 1)\n"
          ]
        }
      ]
    },
    {
      "cell_type": "markdown",
      "metadata": {
        "id": "FbHNPFRBY77W"
      },
      "source": [
        "### **Logistic Regression**\n",
        "\n",
        "It is a classification algorithm in machine learning that uses one or more independent variables to determine an outcome. The outcome is measured with a dichotomous variable which means it will have only two possible outcomes. For example, it may be used to determine if an email is spam or not, using the rate of misspelled words, a common sign of spam.\n",
        "\n",
        "Here, we are using it to detect whether the news headline is **fake** or **real**. "
      ]
    },
    {
      "cell_type": "code",
      "metadata": {
        "colab": {
          "base_uri": "https://localhost:8080/"
        },
        "id": "rRVztkO2ThhT",
        "outputId": "c162f9f0-a293-4194-aeac-89e8ad4101c4"
      },
      "source": [
        "#Using Logistic Regression\n",
        "from sklearn.linear_model import LogisticRegression\n",
        "lr=LogisticRegression()\n",
        "lr.fit(x_train,y_train)\n",
        "lr_ypred=lr.predict(x_test)\n",
        "lr_acc = sklearn.metrics.accuracy_score(y_test, lr_ypred)\n",
        "print(\"Logistic Regression Accuracy: \")\n",
        "print(lr_acc*100,\"%\")"
      ],
      "execution_count": null,
      "outputs": [
        {
          "output_type": "stream",
          "name": "stderr",
          "text": [
            "/usr/local/lib/python3.7/dist-packages/sklearn/utils/validation.py:985: DataConversionWarning: A column-vector y was passed when a 1d array was expected. Please change the shape of y to (n_samples, ), for example using ravel().\n",
            "  y = column_or_1d(y, warn=True)\n"
          ]
        },
        {
          "output_type": "stream",
          "name": "stdout",
          "text": [
            "Logistic Regression Accuracy: \n",
            "92.7570093457944 %\n"
          ]
        }
      ]
    },
    {
      "cell_type": "code",
      "metadata": {
        "id": "oNNEIg-HWFHa"
      },
      "source": [
        "# pr= lr.predict(cv.transform([text_cleaner(headline2)]))\n",
        "# if pr>0.5:\n",
        "#   print(\"Real\")\n",
        "# else:\n",
        "#   print(\"Fake!\")"
      ],
      "execution_count": null,
      "outputs": []
    },
    {
      "cell_type": "markdown",
      "metadata": {
        "id": "5dHqUjAsZYUw"
      },
      "source": [
        "### **Naive Bayes Classifier**\n",
        "\n",
        "Naive Bayes algorithm is based on Bayes’ theorem with the assumption of independence between every pair of features. It assumes that the presence of a particular feature in a class is unrelated to the presence of any other feature. Even if the features depend on each other, all of these properties contribute to the probability independently."
      ]
    },
    {
      "cell_type": "code",
      "metadata": {
        "colab": {
          "base_uri": "https://localhost:8080/"
        },
        "id": "r5C-q2_9ZcDm",
        "outputId": "e7b82142-c0e4-4b8a-de27-346eee25cc88"
      },
      "source": [
        "from sklearn.naive_bayes import GaussianNB\n",
        "nb=GaussianNB()\n",
        "nb.fit(x_train,y_train)\n",
        "nb_ypred=nb.predict(x_test)\n",
        "nb_acc = sklearn.metrics.accuracy_score(y_test,nb_ypred)\n",
        "print(\"Naive Bayes Accuracy: \")\n",
        "print(nb_acc*100,\"%\")"
      ],
      "execution_count": null,
      "outputs": [
        {
          "output_type": "stream",
          "name": "stderr",
          "text": [
            "/usr/local/lib/python3.7/dist-packages/sklearn/utils/validation.py:985: DataConversionWarning: A column-vector y was passed when a 1d array was expected. Please change the shape of y to (n_samples, ), for example using ravel().\n",
            "  y = column_or_1d(y, warn=True)\n"
          ]
        },
        {
          "output_type": "stream",
          "name": "stdout",
          "text": [
            "Naive Bayes Accuracy: \n",
            "87.14953271028037 %\n"
          ]
        }
      ]
    },
    {
      "cell_type": "markdown",
      "metadata": {
        "id": "kTpg7V_-bOfV"
      },
      "source": [
        "### **Stochastic Gradient Descent**\n",
        "\n",
        "Stochastic Gradient Descent is particularly useful when the sample data is in a large number. It supports different loss functions and penalties for classification. It refers to calculating the derivative from each training data instance and calculating the update immediately and it also iteratively makes small adjustments to a machine learning network configuration to decrease the error of the network."
      ]
    },
    {
      "cell_type": "code",
      "metadata": {
        "colab": {
          "base_uri": "https://localhost:8080/"
        },
        "id": "iedv4kItZ6Mj",
        "outputId": "47a74a0d-03a0-46d3-d8e5-494f6463ac86"
      },
      "source": [
        "from sklearn.linear_model import SGDClassifier\n",
        "sgd=SGDClassifier(loss='modified_huber',shuffle=True, random_state=15)\n",
        "sgd.fit(x_train,y_train)\n",
        "sgd_ypred=sgd.predict(x_test)\n",
        "sgd_acc = sklearn.metrics.accuracy_score(y_test,sgd_ypred)\n",
        "print(\"Stochastic Gradient Descent Accuracy: \")\n",
        "print(sgd_acc*100,\"%\")"
      ],
      "execution_count": null,
      "outputs": [
        {
          "output_type": "stream",
          "name": "stderr",
          "text": [
            "/usr/local/lib/python3.7/dist-packages/sklearn/utils/validation.py:985: DataConversionWarning: A column-vector y was passed when a 1d array was expected. Please change the shape of y to (n_samples, ), for example using ravel().\n",
            "  y = column_or_1d(y, warn=True)\n"
          ]
        },
        {
          "output_type": "stream",
          "name": "stdout",
          "text": [
            "Stochastic Gradient Descent Accuracy: \n",
            "91.04361370716511 %\n"
          ]
        }
      ]
    },
    {
      "cell_type": "markdown",
      "metadata": {
        "id": "GzNvtDTlbk2g"
      },
      "source": [
        "### **K-Nearest Neighbour**\n",
        "\n",
        "Nearest-Neighbour based classification is a type of lazy learning as it does not attempt to construct a general internal model, but simply stores instances of the training data. Classification is computed from a simple majority vote of the 'k' nearest neighbours of each point."
      ]
    },
    {
      "cell_type": "code",
      "metadata": {
        "colab": {
          "base_uri": "https://localhost:8080/"
        },
        "id": "vem-bwaBbkEG",
        "outputId": "8c12c4f8-dd3a-4069-b3da-92d4a95d8747"
      },
      "source": [
        "from sklearn.neighbors import KNeighborsClassifier\n",
        "knn=KNeighborsClassifier(n_neighbors=3)\n",
        "knn.fit(x_train,y_train)\n",
        "knn_ypred=knn.predict(x_test)\n",
        "knn_acc = sklearn.metrics.accuracy_score(y_test,knn_ypred)\n",
        "print(\"K-Nearest Neighbour Accuracy: \")\n",
        "print(knn_acc*100,\"%\")"
      ],
      "execution_count": null,
      "outputs": [
        {
          "output_type": "stream",
          "name": "stderr",
          "text": [
            "/usr/local/lib/python3.7/dist-packages/sklearn/neighbors/_classification.py:198: DataConversionWarning: A column-vector y was passed when a 1d array was expected. Please change the shape of y to (n_samples,), for example using ravel().\n",
            "  return self._fit(X, y)\n"
          ]
        },
        {
          "output_type": "stream",
          "name": "stdout",
          "text": [
            "K-Nearest Neighbour Accuracy: \n",
            "77.80373831775701 %\n"
          ]
        }
      ]
    },
    {
      "cell_type": "markdown",
      "metadata": {
        "id": "d6c7orCgcQ9A"
      },
      "source": [
        "### **Decision Tree**\n",
        "\n",
        "Decision Tree builds models in the form of a tree structure. It classifies data into finer and finer categories: from tree trunk to branches to leaves. It uses the if-then rule of mathematics to create sub-categories that fit into broader categories and allows for precise, organic categorization."
      ]
    },
    {
      "cell_type": "code",
      "metadata": {
        "colab": {
          "base_uri": "https://localhost:8080/"
        },
        "id": "zUXOztBqcIQV",
        "outputId": "eb4d593a-0877-496e-817e-a22df00d0c8a"
      },
      "source": [
        "from sklearn.tree import DecisionTreeClassifier\n",
        "#Note: tweak values for max acc\n",
        "dtree=DecisionTreeClassifier(max_depth=40,random_state=18,max_features=None, min_samples_leaf=8)\n",
        "dtree.fit(x_train,y_train)\n",
        "dtree_ypred=dtree.predict(x_test)\n",
        "dtree_acc = sklearn.metrics.accuracy_score(y_test,dtree_ypred)\n",
        "print(\"Decision Tree Accuracy: \")\n",
        "print(dtree_acc*100,\"%\")"
      ],
      "execution_count": null,
      "outputs": [
        {
          "output_type": "stream",
          "name": "stdout",
          "text": [
            "Decision Tree Accuracy: \n",
            "87.53894080996885 %\n"
          ]
        }
      ]
    },
    {
      "cell_type": "markdown",
      "metadata": {
        "id": "tdkGuHsTdFZR"
      },
      "source": [
        "### **Random Forest** \n",
        "\n",
        "Random decision trees or random forest are an ensemble learning method for classification, regression, etc.  meaning that a random forest model is made up of a large number of small decision trees, called estimators, which each produce their own predictions. The random forest model combines the predictions of the estimators to produce a more accurate prediction."
      ]
    },
    {
      "cell_type": "code",
      "metadata": {
        "colab": {
          "base_uri": "https://localhost:8080/"
        },
        "id": "9jMjEb9CdAaV",
        "outputId": "af9531db-1ac8-46ed-8040-677f206142fb"
      },
      "source": [
        "from sklearn.ensemble import RandomForestClassifier\n",
        "rfm=RandomForestClassifier(n_estimators=75,oob_score=True,n_jobs=-1, random_state=20,max_features=None,min_samples_leaf=2)\n",
        "rfm.fit(x_train,y_train)\n",
        "rfm_ypred=rfm.predict(x_test)\n",
        "rfm_acc = sklearn.metrics.accuracy_score(y_test,rfm_ypred)\n",
        "print(\"Random Forest Accuracy: \")\n",
        "print(rfm_acc*100,\"%\")"
      ],
      "execution_count": null,
      "outputs": [
        {
          "output_type": "stream",
          "name": "stderr",
          "text": [
            "/usr/local/lib/python3.7/dist-packages/ipykernel_launcher.py:3: DataConversionWarning: A column-vector y was passed when a 1d array was expected. Please change the shape of y to (n_samples,), for example using ravel().\n",
            "  This is separate from the ipykernel package so we can avoid doing imports until\n"
          ]
        },
        {
          "output_type": "stream",
          "name": "stdout",
          "text": [
            "Random Forest Accuracy: \n",
            "90.57632398753894 %\n"
          ]
        }
      ]
    },
    {
      "cell_type": "markdown",
      "metadata": {
        "id": "mTGyQ9YKd5AW"
      },
      "source": [
        "### **Support Vector Machine**\n",
        "\n",
        "Support vector machine is a classifier that represents the training data as points in space separated into categories by a gap as wide as possible. New points are then added to space by predicting which category they fall into and which space they will belong to.\n",
        "\n"
      ]
    },
    {
      "cell_type": "code",
      "metadata": {
        "colab": {
          "base_uri": "https://localhost:8080/"
        },
        "id": "DK4WRJNVd-pY",
        "outputId": "acf4fe6c-d885-4a20-c35d-479082ab46d5"
      },
      "source": [
        "from sklearn.svm import SVC \n",
        "svm=SVC(kernel=\"linear\",C=0.025,random_state=None)\n",
        "svm.fit(x_train,y_train)\n",
        "svm_ypred=svm.predict(x_test)\n",
        "svm_acc = sklearn.metrics.accuracy_score(y_test,svm_ypred)\n",
        "print(\"Support Vector Machine Accuracy: \")\n",
        "print(svm_acc*100,\"%\")"
      ],
      "execution_count": null,
      "outputs": [
        {
          "output_type": "stream",
          "name": "stderr",
          "text": [
            "/usr/local/lib/python3.7/dist-packages/sklearn/utils/validation.py:985: DataConversionWarning: A column-vector y was passed when a 1d array was expected. Please change the shape of y to (n_samples, ), for example using ravel().\n",
            "  y = column_or_1d(y, warn=True)\n"
          ]
        },
        {
          "output_type": "stream",
          "name": "stdout",
          "text": [
            "Support Vector Machine Accuracy: \n",
            "92.13395638629284 %\n"
          ]
        }
      ]
    },
    {
      "cell_type": "markdown",
      "metadata": {
        "id": "UPYCv24RkXZ0"
      },
      "source": [
        "### **Classification ANN**\n",
        "\n",
        "Classification ANNs seek to classify an observation as belonging to some discrete class as a function of the inputs. The input features (independent variables) can be categorical or numeric types, however, we require a categorical feature as the dependent variable."
      ]
    },
    {
      "cell_type": "markdown",
      "metadata": {
        "id": "wn44I35axFtJ"
      },
      "source": [
        "### Compile and fit the model"
      ]
    },
    {
      "cell_type": "code",
      "metadata": {
        "id": "hMj_wO89DNnc"
      },
      "source": [
        "from sklearn.preprocessing import StandardScaler\n",
        "sc = StandardScaler()\n",
        "x_train = sc.fit_transform(x_train)\n",
        "x_test = sc.fit_transform(x_test)"
      ],
      "execution_count": null,
      "outputs": []
    },
    {
      "cell_type": "code",
      "metadata": {
        "id": "DeDW5wKUXoXA"
      },
      "source": [
        "#Using a Sequential Model\n",
        "model = Sequential()\n",
        "model.add(Dense(units = 2000, kernel_initializer = \"random_uniform\", activation = \"relu\"))\n",
        "model.add(layers.Dropout(0.5))\n",
        "model.add(Dense(units = 4000, kernel_initializer = \"random_uniform\", activation = \"relu\"))\n",
        "model.add(layers.Dropout(0.5))\n",
        "model.add(Dense(units = 4000, kernel_initializer = \"random_uniform\", activation = \"relu\"))\n",
        "model.add(layers.Dropout(0.5))\n",
        "model.add(Dense(units = 4000, kernel_initializer = \"random_uniform\", activation = \"relu\"))\n",
        "model.add(layers.Dropout(0.5))\n",
        "model.add(Dense(units = 4000, kernel_initializer = \"random_uniform\", activation = \"relu\"))\n",
        "model.add(layers.Dropout(0.5))\n",
        "model.add(Dense(units = 4000, kernel_initializer = \"random_uniform\", activation = \"relu\"))\n",
        "model.add(layers.Dropout(0.5))\n",
        "model.add(Dense(units = 4000, kernel_initializer = \"random_uniform\", activation = \"relu\"))\n",
        "model.add(layers.Dropout(0.5))\n",
        "model.add(Dense(units = 4000, kernel_initializer = \"random_uniform\", activation = \"relu\"))\n",
        "model.add(layers.Dropout(0.5))\n",
        "model.add(Dense(units = 4000, kernel_initializer = \"random_uniform\", activation = \"relu\"))\n",
        "model.add(layers.Dropout(0.5))\n",
        "model.add(Dense(units = 4000, kernel_initializer = \"random_uniform\", activation = \"relu\"))\n",
        "model.add(layers.Dropout(0.5))\n",
        "model.add(Dense(units = 4000, kernel_initializer = \"random_uniform\", activation = \"relu\"))\n",
        "model.add(layers.Dropout(0.5))\n",
        "model.add(Dense(units = 4000, kernel_initializer = \"random_uniform\", activation = \"relu\"))\n",
        "model.add(layers.Dropout(0.5))\n",
        "model.add(Dense(units = 4000, kernel_initializer = \"random_uniform\", activation = \"relu\"))\n",
        "model.add(layers.BatchNormalization())\n",
        "model.add(Dense(units = 1, kernel_initializer = \"random_uniform\", activation = \"sigmoid\"))"
      ],
      "execution_count": null,
      "outputs": []
    },
    {
      "cell_type": "code",
      "metadata": {
        "colab": {
          "base_uri": "https://localhost:8080/"
        },
        "id": "akaYqCX0XtV0",
        "outputId": "7beae6e6-bc7c-4268-bf08-48c825120355"
      },
      "source": [
        "model.compile(optimizer = \"adam\", loss=\"binary_crossentropy\", metrics= [\"accuracy\"])\n",
        "ann = model.fit(x_train,y_train, epochs = 5,verbose=1, steps_per_epoch=50, validation_data= (x_test, y_test))"
      ],
      "execution_count": null,
      "outputs": [
        {
          "output_type": "stream",
          "name": "stdout",
          "text": [
            "Epoch 1/5\n",
            "50/50 [==============================] - 173s 3s/step - loss: 1.5185 - accuracy: 0.5463 - val_loss: 0.9394 - val_accuracy: 0.3575\n",
            "Epoch 2/5\n",
            "50/50 [==============================] - 171s 3s/step - loss: 0.5300 - accuracy: 0.7599 - val_loss: 0.3542 - val_accuracy: 0.8879\n",
            "Epoch 3/5\n",
            "50/50 [==============================] - 172s 3s/step - loss: 0.1675 - accuracy: 0.9365 - val_loss: 0.4393 - val_accuracy: 0.8528\n",
            "Epoch 4/5\n",
            "50/50 [==============================] - 171s 3s/step - loss: 0.0611 - accuracy: 0.9776 - val_loss: 0.3867 - val_accuracy: 0.8980\n",
            "Epoch 5/5\n",
            "50/50 [==============================] - 168s 3s/step - loss: 0.0277 - accuracy: 0.9908 - val_loss: 0.3526 - val_accuracy: 0.9097\n"
          ]
        }
      ]
    },
    {
      "cell_type": "code",
      "metadata": {
        "id": "0wOq-ow7ARgy"
      },
      "source": [
        "ann_ypred= model.predict(x_test)"
      ],
      "execution_count": null,
      "outputs": []
    },
    {
      "cell_type": "code",
      "metadata": {
        "id": "knfC-r8vttn_"
      },
      "source": [
        "for i in range(len(ann_ypred)):\n",
        "    if ann_ypred[i]>0.5:\n",
        "        ann_ypred[i]=1\n",
        "    elif ann_ypred[i]<=0.5:\n",
        "        ann_ypred[i]=0"
      ],
      "execution_count": null,
      "outputs": []
    },
    {
      "cell_type": "code",
      "metadata": {
        "colab": {
          "base_uri": "https://localhost:8080/"
        },
        "id": "gXBzg06rARHU",
        "outputId": "12581018-45f5-4a49-d544-2f97b0c9273b"
      },
      "source": [
        "ann_acc = sklearn.metrics.accuracy_score(y_test, ann_ypred)\n",
        "print(\"ANN Accuracy: \")\n",
        "print(ann_acc*100,\"%\")"
      ],
      "execution_count": null,
      "outputs": [
        {
          "output_type": "stream",
          "name": "stdout",
          "text": [
            "ANN Accuracy: \n",
            "90.96573208722741 %\n"
          ]
        }
      ]
    },
    {
      "cell_type": "markdown",
      "metadata": {
        "id": "fN2l1DmqfMOC"
      },
      "source": [
        "### **Sample Headlines for Testing**"
      ]
    },
    {
      "cell_type": "code",
      "metadata": {
        "id": "TN60uaEIWaXc"
      },
      "source": [
        "headline1 = \"Social gatherings of more than six people will be banned across England Wales and Scotland from tomorrow. But what are the new rules what happens if you break them and how do they differ across the nations? ðŸ‘‡\"\n",
        "headline2 = \"Korona virus, very new deadly form of virus, china is suffering, may come to India immediately, avoid any form of cold drinks, ice creams, koolfee, etc, any type of preserved foods, milkshake, rough ice, ice colas, milk sweets older then 48 hours, for atleast 90 days from today.\"\n",
        "headline3 = \"As tuberculosis shaped modernism, so COVID-19 and our collective experience of staying inside for months on end will influence architectureâ€™s near future, @chaykak writes. https://t.co/ag34yZckbU\"\n",
        "headline4 = \"SUBHAN ALLAH: AFTER CORONA VIRUS CHINA GOVT LIFTED BAN ON HOLY QURAN & ALLOWED CHINESE MUSLIMS TO READ THEIR SACRED BOOK! SO WHICH OF THE FAVORS OF YOUR LORD WOULD YOU DENY?\"\n",
        "headline5 = \"#IndiaFightsCorona Following the national trend 17 States/UTs have more new recoveries than new cases. https://t.co/aHWwlaimmb\""
      ],
      "execution_count": null,
      "outputs": []
    },
    {
      "cell_type": "code",
      "metadata": {
        "id": "jvqDPw93WN-v"
      },
      "source": [
        "#predictor(text_cleaner(headline2))"
      ],
      "execution_count": null,
      "outputs": []
    },
    {
      "cell_type": "markdown",
      "metadata": {
        "id": "lsT2cZdgxLnn"
      },
      "source": [
        "### Functions for Input Processing"
      ]
    },
    {
      "cell_type": "code",
      "metadata": {
        "id": "RG-uAfmRmxCb"
      },
      "source": [
        "#function to clean the input text\n",
        "def text_cleaner(text):\n",
        "  text = re.sub('[^a-zA-Z]', ' ', text) \n",
        "  text = text.lower()\n",
        "  text = text.split() \n",
        "  text = [ps.stem(word) for word in text if not word in set(stopwords.words('english'))]\n",
        "  text = ' '.join(text)\n",
        "  return text"
      ],
      "execution_count": null,
      "outputs": []
    },
    {
      "cell_type": "code",
      "metadata": {
        "id": "tA5zFBNpaRLY"
      },
      "source": [
        "#function to predict\n",
        "# def predictor(text):\n",
        "#   if (model.predict(cv.transform([text])))>0.5:\n",
        "#     print(\"Real\")\n",
        "#   else:\n",
        "#     print(\"Fake!\")"
      ],
      "execution_count": null,
      "outputs": []
    },
    {
      "cell_type": "markdown",
      "metadata": {
        "id": "aQIhxT8jweR8"
      },
      "source": [
        "## Confusion Matrix"
      ]
    },
    {
      "cell_type": "code",
      "metadata": {
        "id": "c-LE0V8sxcIF"
      },
      "source": [
        "from sklearn.metrics import confusion_matrix, accuracy_score, precision_score, recall_score, f1_score"
      ],
      "execution_count": null,
      "outputs": []
    },
    {
      "cell_type": "code",
      "metadata": {
        "colab": {
          "base_uri": "https://localhost:8080/"
        },
        "id": "M-Arp843tV-8",
        "outputId": "b4115afd-8dc4-4329-8371-893ff8c60f0a"
      },
      "source": [
        "# Logistic Regression\n",
        "\n",
        "cm_lr = confusion_matrix(y_test, lr_ypred)\n",
        "print('For Logistic Regression')\n",
        "print('Confusion Matrix: ')\n",
        "print(cm_lr)\n",
        "acc_lr = accuracy_score(y_test, lr_ypred)\n",
        "pre_lr = precision_score(y_test, lr_ypred)\n",
        "rec_lr = recall_score(y_test, lr_ypred)\n",
        "f1_lr = f1_score(y_test, lr_ypred)\n",
        "print('Accuracy Score: ',acc_lr)\n",
        "print('Precision Score: ',pre_lr)\n",
        "print('Recall Score: ',rec_lr)\n",
        "print('F1 Score: ',f1_lr)"
      ],
      "execution_count": null,
      "outputs": [
        {
          "output_type": "stream",
          "name": "stdout",
          "text": [
            "For Logistic Regression\n",
            "Confusion Matrix: \n",
            "[[582  45]\n",
            " [ 48 609]]\n",
            "Accuracy Score:  0.927570093457944\n",
            "Precision Score:  0.9311926605504587\n",
            "Recall Score:  0.9269406392694064\n",
            "F1 Score:  0.9290617848970252\n"
          ]
        }
      ]
    },
    {
      "cell_type": "code",
      "metadata": {
        "colab": {
          "base_uri": "https://localhost:8080/"
        },
        "id": "rXwLlNSdxGkU",
        "outputId": "3dbf123d-2f5c-4918-95de-aa9361be518f"
      },
      "source": [
        "# Naive Bayes\n",
        "\n",
        "cm_nb = confusion_matrix(y_test, nb_ypred)\n",
        "print('For Naive Bayes')\n",
        "print('Confusion Matrix: ')\n",
        "print(cm_nb)\n",
        "acc_nb = accuracy_score(y_test, nb_ypred)\n",
        "pre_nb = precision_score(y_test, nb_ypred)\n",
        "rec_nb = recall_score(y_test, nb_ypred)\n",
        "f1_nb = f1_score(y_test, nb_ypred)\n",
        "print('Accuracy Score: ',acc_nb)\n",
        "print('Precision Score: ',pre_nb)\n",
        "print('Recall Score: ',rec_nb)\n",
        "print('F1 Score: ',f1_nb)"
      ],
      "execution_count": null,
      "outputs": [
        {
          "output_type": "stream",
          "name": "stdout",
          "text": [
            "For Naive Bayes\n",
            "Confusion Matrix: \n",
            "[[554  73]\n",
            " [ 92 565]]\n",
            "Accuracy Score:  0.8714953271028038\n",
            "Precision Score:  0.8855799373040752\n",
            "Recall Score:  0.8599695585996956\n",
            "F1 Score:  0.8725868725868726\n"
          ]
        }
      ]
    },
    {
      "cell_type": "code",
      "metadata": {
        "colab": {
          "base_uri": "https://localhost:8080/"
        },
        "id": "aArOdGnax5V_",
        "outputId": "59e98f6d-5bab-4569-8c58-0df0c11e7f38"
      },
      "source": [
        "# Stochastic Gradient Descent\n",
        "\n",
        "cm_sgd = confusion_matrix(y_test, sgd_ypred)\n",
        "print('For Stochastic Gradient Descent')\n",
        "print('Confusion Matrix: ')\n",
        "print(cm_sgd)\n",
        "acc_sgd = accuracy_score(y_test, sgd_ypred)\n",
        "pre_sgd = precision_score(y_test, sgd_ypred)\n",
        "rec_sgd = recall_score(y_test, sgd_ypred)\n",
        "f1_sgd = f1_score(y_test, sgd_ypred)\n",
        "print('Accuracy Score: ',acc_sgd)\n",
        "print('Precision Score: ',pre_sgd)\n",
        "print('Recall Score: ',rec_sgd)\n",
        "print('F1 Score: ',f1_sgd)"
      ],
      "execution_count": null,
      "outputs": [
        {
          "output_type": "stream",
          "name": "stdout",
          "text": [
            "For Stochastic Gradient Descent\n",
            "Confusion Matrix: \n",
            "[[567  60]\n",
            " [ 55 602]]\n",
            "Accuracy Score:  0.910436137071651\n",
            "Precision Score:  0.9093655589123867\n",
            "Recall Score:  0.9162861491628614\n",
            "F1 Score:  0.9128127369219106\n"
          ]
        }
      ]
    },
    {
      "cell_type": "code",
      "metadata": {
        "colab": {
          "base_uri": "https://localhost:8080/"
        },
        "id": "zet7Plb6x5ws",
        "outputId": "c336f454-f348-4e6e-f3a8-731f20765c0d"
      },
      "source": [
        "# KNN \n",
        "\n",
        "cm_knn = confusion_matrix(y_test, knn_ypred)\n",
        "print('For KNN')\n",
        "print('Confusion Matrix: ')\n",
        "print(cm_knn)\n",
        "acc_knn = accuracy_score(y_test, knn_ypred)\n",
        "pre_knn = precision_score(y_test, knn_ypred)\n",
        "rec_knn = recall_score(y_test, knn_ypred)\n",
        "f1_knn = f1_score(y_test, knn_ypred)\n",
        "print('Accuracy Score: ',acc_knn)\n",
        "print('Precision Score: ',pre_knn)\n",
        "print('Recall Score: ',rec_knn)\n",
        "print('F1 Score: ',f1_knn)"
      ],
      "execution_count": null,
      "outputs": [
        {
          "output_type": "stream",
          "name": "stdout",
          "text": [
            "For KNN\n",
            "Confusion Matrix: \n",
            "[[581  46]\n",
            " [239 418]]\n",
            "Accuracy Score:  0.7780373831775701\n",
            "Precision Score:  0.9008620689655172\n",
            "Recall Score:  0.6362252663622526\n",
            "F1 Score:  0.7457627118644068\n"
          ]
        }
      ]
    },
    {
      "cell_type": "code",
      "metadata": {
        "colab": {
          "base_uri": "https://localhost:8080/"
        },
        "id": "eZRM-Nvix5_G",
        "outputId": "ae69563c-5795-4790-afcc-c75d935d3e73"
      },
      "source": [
        "# Decision Tree\n",
        "\n",
        "cm_dtree = confusion_matrix(y_test, dtree_ypred)\n",
        "print('For Decision Tree')\n",
        "print('Confusion Matrix: ')\n",
        "print(cm_dtree)\n",
        "acc_dtree = accuracy_score(y_test, dtree_ypred)\n",
        "pre_dtree = precision_score(y_test, dtree_ypred)\n",
        "rec_dtree = recall_score(y_test, dtree_ypred)\n",
        "f1_dtree = f1_score(y_test, dtree_ypred)\n",
        "print('Accuracy Score: ',acc_dtree)\n",
        "print('Precision Score: ',pre_dtree)\n",
        "print('Recall Score: ',rec_dtree)\n",
        "print('F1 Score: ',f1_dtree)"
      ],
      "execution_count": null,
      "outputs": [
        {
          "output_type": "stream",
          "name": "stdout",
          "text": [
            "For Decision Tree\n",
            "Confusion Matrix: \n",
            "[[549  78]\n",
            " [ 82 575]]\n",
            "Accuracy Score:  0.8753894080996885\n",
            "Precision Score:  0.8805513016845329\n",
            "Recall Score:  0.8751902587519026\n",
            "F1 Score:  0.8778625954198473\n"
          ]
        }
      ]
    },
    {
      "cell_type": "code",
      "metadata": {
        "colab": {
          "base_uri": "https://localhost:8080/"
        },
        "id": "Z74TLWhMx6KT",
        "outputId": "9df7562c-4fec-4a76-fd0a-01523c34fcbe"
      },
      "source": [
        "# Random Forest\n",
        "\n",
        "cm_rfm = confusion_matrix(y_test, rfm_ypred)\n",
        "print('For Random Forest')\n",
        "print('Confusion Matrix: ')\n",
        "print(cm_rfm)\n",
        "acc_rfm = accuracy_score(y_test, rfm_ypred)\n",
        "pre_rfm = precision_score(y_test, rfm_ypred)\n",
        "rec_rfm = recall_score(y_test, rfm_ypred)\n",
        "f1_rfm = f1_score(y_test, rfm_ypred)\n",
        "print('Accuracy Score: ',acc_rfm)\n",
        "print('Precision Score: ',pre_rfm)\n",
        "print('Recall Score: ',rec_rfm)\n",
        "print('F1 Score: ',f1_rfm)"
      ],
      "execution_count": null,
      "outputs": [
        {
          "output_type": "stream",
          "name": "stdout",
          "text": [
            "For Random Forest\n",
            "Confusion Matrix: \n",
            "[[555  72]\n",
            " [ 49 608]]\n",
            "Accuracy Score:  0.9057632398753894\n",
            "Precision Score:  0.8941176470588236\n",
            "Recall Score:  0.9254185692541856\n",
            "F1 Score:  0.9094988780852655\n"
          ]
        }
      ]
    },
    {
      "cell_type": "code",
      "metadata": {
        "colab": {
          "base_uri": "https://localhost:8080/"
        },
        "id": "nOQoLwBux6Q7",
        "outputId": "0c51194f-62a5-405f-c9d7-6b14b5b631de"
      },
      "source": [
        "# SVM\n",
        "\n",
        "cm_svm = confusion_matrix(y_test, svm_ypred)\n",
        "print('For SVM')\n",
        "print('Confusion Matrix: ')\n",
        "print(cm_svm)\n",
        "acc_svm = accuracy_score(y_test, svm_ypred)\n",
        "pre_svm = precision_score(y_test, svm_ypred)\n",
        "rec_svm = recall_score(y_test, svm_ypred)\n",
        "f1_svm = f1_score(y_test, svm_ypred)\n",
        "print('Accuracy Score: ',acc_svm)\n",
        "print('Precision Score: ',pre_svm)\n",
        "print('Recall Score: ',rec_svm)\n",
        "print('F1 Score: ',f1_svm)"
      ],
      "execution_count": null,
      "outputs": [
        {
          "output_type": "stream",
          "name": "stdout",
          "text": [
            "For SVM\n",
            "Confusion Matrix: \n",
            "[[583  44]\n",
            " [ 57 600]]\n",
            "Accuracy Score:  0.9213395638629284\n",
            "Precision Score:  0.9316770186335404\n",
            "Recall Score:  0.91324200913242\n",
            "F1 Score:  0.9223674096848578\n"
          ]
        }
      ]
    },
    {
      "cell_type": "code",
      "metadata": {
        "colab": {
          "base_uri": "https://localhost:8080/"
        },
        "id": "BtcUd01kAsIt",
        "outputId": "c2fbeeee-e373-4483-beb5-faa4e594453f"
      },
      "source": [
        "# ANN\n",
        "\n",
        "cm_ann = confusion_matrix(y_test, ann_ypred)\n",
        "print('For ANN')\n",
        "print('Confusion Matrix: ')\n",
        "print(cm_ann)\n",
        "acc_ann = accuracy_score(y_test, ann_ypred)\n",
        "pre_ann = precision_score(y_test, ann_ypred)\n",
        "rec_ann = recall_score(y_test, ann_ypred)\n",
        "f1_ann = f1_score(y_test, ann_ypred)\n",
        "print('Accuracy Score: ',acc_ann)\n",
        "print('Precision Score: ',pre_ann)\n",
        "print('Recall Score: ',rec_ann)\n",
        "print('F1 Score: ',f1_ann)"
      ],
      "execution_count": null,
      "outputs": [
        {
          "output_type": "stream",
          "name": "stdout",
          "text": [
            "For ANN\n",
            "Confusion Matrix: \n",
            "[[558  69]\n",
            " [ 47 610]]\n",
            "Accuracy Score:  0.9096573208722741\n",
            "Precision Score:  0.898379970544919\n",
            "Recall Score:  0.928462709284627\n",
            "F1 Score:  0.9131736526946107\n"
          ]
        }
      ]
    },
    {
      "cell_type": "markdown",
      "metadata": {
        "id": "wHQ14cJz02r2"
      },
      "source": [
        "## Classification Report"
      ]
    },
    {
      "cell_type": "code",
      "metadata": {
        "id": "ZOKZI-KDx6YL"
      },
      "source": [
        "from sklearn.metrics import classification_report\n",
        "\n",
        "targetNames=['Real News', 'Fake News']"
      ],
      "execution_count": null,
      "outputs": []
    },
    {
      "cell_type": "code",
      "metadata": {
        "colab": {
          "base_uri": "https://localhost:8080/"
        },
        "id": "N8ro2daNx6hu",
        "outputId": "b7cda67f-bbae-495b-f521-8bf85841f6e6"
      },
      "source": [
        "print('For LR')\n",
        "print(classification_report(y_test, lr_ypred, target_names=targetNames))\n",
        "print('-----------------------------------------------------------------')\n",
        "print('For Naive Bayes')\n",
        "print(classification_report(y_test, nb_ypred, target_names=targetNames))\n",
        "print('-----------------------------------------------------------------')\n",
        "print('For SGD')\n",
        "print(classification_report(y_test, sgd_ypred, target_names=targetNames))\n",
        "print('-----------------------------------------------------------------')\n",
        "print('For KNN')\n",
        "print(classification_report(y_test, knn_ypred, target_names=targetNames))\n",
        "print('-----------------------------------------------------------------')\n",
        "print('For Decision Tree')\n",
        "print(classification_report(y_test, dtree_ypred, target_names=targetNames))\n",
        "print('For Random Forest')\n",
        "print(classification_report(y_test, rfm_ypred, target_names=targetNames))\n",
        "print('For SVM')\n",
        "print(classification_report(y_test, svm_ypred, target_names=targetNames))\n",
        "print('For ANN')\n",
        "print(classification_report(y_test, ann_ypred, target_names=targetNames))"
      ],
      "execution_count": null,
      "outputs": [
        {
          "output_type": "stream",
          "name": "stdout",
          "text": [
            "For LR\n",
            "              precision    recall  f1-score   support\n",
            "\n",
            "   Real News       0.92      0.93      0.93       627\n",
            "   Fake News       0.93      0.93      0.93       657\n",
            "\n",
            "    accuracy                           0.93      1284\n",
            "   macro avg       0.93      0.93      0.93      1284\n",
            "weighted avg       0.93      0.93      0.93      1284\n",
            "\n",
            "-----------------------------------------------------------------\n",
            "For Naive Bayes\n",
            "              precision    recall  f1-score   support\n",
            "\n",
            "   Real News       0.86      0.88      0.87       627\n",
            "   Fake News       0.89      0.86      0.87       657\n",
            "\n",
            "    accuracy                           0.87      1284\n",
            "   macro avg       0.87      0.87      0.87      1284\n",
            "weighted avg       0.87      0.87      0.87      1284\n",
            "\n",
            "-----------------------------------------------------------------\n",
            "For SGD\n",
            "              precision    recall  f1-score   support\n",
            "\n",
            "   Real News       0.91      0.90      0.91       627\n",
            "   Fake News       0.91      0.92      0.91       657\n",
            "\n",
            "    accuracy                           0.91      1284\n",
            "   macro avg       0.91      0.91      0.91      1284\n",
            "weighted avg       0.91      0.91      0.91      1284\n",
            "\n",
            "-----------------------------------------------------------------\n",
            "For KNN\n",
            "              precision    recall  f1-score   support\n",
            "\n",
            "   Real News       0.71      0.93      0.80       627\n",
            "   Fake News       0.90      0.64      0.75       657\n",
            "\n",
            "    accuracy                           0.78      1284\n",
            "   macro avg       0.80      0.78      0.77      1284\n",
            "weighted avg       0.81      0.78      0.77      1284\n",
            "\n",
            "-----------------------------------------------------------------\n",
            "For Decision Tree\n",
            "              precision    recall  f1-score   support\n",
            "\n",
            "   Real News       0.87      0.88      0.87       627\n",
            "   Fake News       0.88      0.88      0.88       657\n",
            "\n",
            "    accuracy                           0.88      1284\n",
            "   macro avg       0.88      0.88      0.88      1284\n",
            "weighted avg       0.88      0.88      0.88      1284\n",
            "\n",
            "For Random Forest\n",
            "              precision    recall  f1-score   support\n",
            "\n",
            "   Real News       0.92      0.89      0.90       627\n",
            "   Fake News       0.89      0.93      0.91       657\n",
            "\n",
            "    accuracy                           0.91      1284\n",
            "   macro avg       0.91      0.91      0.91      1284\n",
            "weighted avg       0.91      0.91      0.91      1284\n",
            "\n",
            "For SVM\n",
            "              precision    recall  f1-score   support\n",
            "\n",
            "   Real News       0.91      0.93      0.92       627\n",
            "   Fake News       0.93      0.91      0.92       657\n",
            "\n",
            "    accuracy                           0.92      1284\n",
            "   macro avg       0.92      0.92      0.92      1284\n",
            "weighted avg       0.92      0.92      0.92      1284\n",
            "\n",
            "For ANN\n",
            "              precision    recall  f1-score   support\n",
            "\n",
            "   Real News       0.92      0.89      0.91       627\n",
            "   Fake News       0.90      0.93      0.91       657\n",
            "\n",
            "    accuracy                           0.91      1284\n",
            "   macro avg       0.91      0.91      0.91      1284\n",
            "weighted avg       0.91      0.91      0.91      1284\n",
            "\n"
          ]
        }
      ]
    },
    {
      "cell_type": "markdown",
      "metadata": {
        "id": "xMBAaYAW2AKZ"
      },
      "source": [
        "## Heat Map"
      ]
    },
    {
      "cell_type": "code",
      "metadata": {
        "id": "Kk96ogsz37KR"
      },
      "source": [
        "import seaborn as sns"
      ],
      "execution_count": null,
      "outputs": []
    },
    {
      "cell_type": "code",
      "metadata": {
        "colab": {
          "base_uri": "https://localhost:8080/",
          "height": 338
        },
        "id": "pKgT4DjRx6o9",
        "outputId": "5e40466d-0316-4365-9c13-61c5adc27d25"
      },
      "source": [
        "# Logistic Regression\n",
        "\n",
        "clf_report_lr = classification_report(y_test, lr_ypred, target_names=targetNames, output_dict= True)\n",
        "cleaned_report_lr = {}\n",
        "\n",
        "cleaned_report_lr['Real News'] = clf_report_lr['Real News']\n",
        "cleaned_report_lr['Fake News'] = clf_report_lr['Fake News']\n",
        "\n",
        "print('For Logistic Regression, Confusion Matrix: ')\n",
        "print(cm_lr)\n",
        "sns.heatmap(pd.DataFrame(cleaned_report_lr), annot=True, vmax=1.0, cmap=\"BuPu\")"
      ],
      "execution_count": null,
      "outputs": [
        {
          "output_type": "stream",
          "name": "stdout",
          "text": [
            "For Logistic Regression, Confusion Matrix: \n",
            "[[582  45]\n",
            " [ 48 609]]\n"
          ]
        },
        {
          "output_type": "execute_result",
          "data": {
            "text/plain": [
              "<matplotlib.axes._subplots.AxesSubplot at 0x7fac20a403d0>"
            ]
          },
          "metadata": {},
          "execution_count": 46
        },
        {
          "output_type": "display_data",
          "data": {
            "image/png": "[encoded data removed]",
            "text/plain": [
              "<Figure size 432x288 with 2 Axes>"
            ]
          },
          "metadata": {
            "needs_background": "light"
          }
        }
      ]
    },
    {
      "cell_type": "code",
      "metadata": {
        "colab": {
          "base_uri": "https://localhost:8080/",
          "height": 338
        },
        "id": "U2SKWySmx6vt",
        "outputId": "cd849378-492a-41a2-fd99-76c6500d1f23"
      },
      "source": [
        "# Naive Bayes\n",
        "\n",
        "clf_report_nb = classification_report(y_test, nb_ypred, target_names=targetNames, output_dict= True)\n",
        "cleaned_report_nb = {}\n",
        "\n",
        "cleaned_report_nb['Real News'] = clf_report_nb['Real News']\n",
        "cleaned_report_nb['Fake News'] = clf_report_nb['Fake News']\n",
        "\n",
        "print('For Naive Bayes, Confusion Matrix: ')\n",
        "print(cm_nb)\n",
        "sns.heatmap(pd.DataFrame(cleaned_report_nb), annot=True, vmax=1.0, cmap=\"BuPu\")"
      ],
      "execution_count": null,
      "outputs": [
        {
          "output_type": "stream",
          "name": "stdout",
          "text": [
            "For Naive Bayes, Confusion Matrix: \n",
            "[[554  73]\n",
            " [ 92 565]]\n"
          ]
        },
        {
          "output_type": "execute_result",
          "data": {
            "text/plain": [
              "<matplotlib.axes._subplots.AxesSubplot at 0x7fac208a8dd0>"
            ]
          },
          "metadata": {},
          "execution_count": 47
        },
        {
          "output_type": "display_data",
          "data": {
            "image/png": "[encoded data removed]",
            "text/plain": [
              "<Figure size 432x288 with 2 Axes>"
            ]
          },
          "metadata": {
            "needs_background": "light"
          }
        }
      ]
    },
    {
      "cell_type": "code",
      "metadata": {
        "colab": {
          "base_uri": "https://localhost:8080/",
          "height": 338
        },
        "id": "g53ZTyqox63D",
        "outputId": "1606d82c-6226-472a-fe70-5e75e89df3c9"
      },
      "source": [
        "# Stochastic Gradient Descent\n",
        "\n",
        "clf_report_sgd = classification_report(y_test, sgd_ypred, target_names=targetNames, output_dict= True)\n",
        "cleaned_report_sgd = {}\n",
        "\n",
        "cleaned_report_sgd['Real News'] = clf_report_sgd['Real News']\n",
        "cleaned_report_sgd['Fake News'] = clf_report_sgd['Fake News']\n",
        "\n",
        "print('For Stochastic Gradient Descent, Confusion Matrix: ')\n",
        "print(cm_sgd)\n",
        "sns.heatmap(pd.DataFrame(cleaned_report_sgd), annot=True, vmax=1.0, cmap=\"BuPu\")"
      ],
      "execution_count": null,
      "outputs": [
        {
          "output_type": "stream",
          "name": "stdout",
          "text": [
            "For Stochastic Gradient Descent, Confusion Matrix: \n",
            "[[567  60]\n",
            " [ 55 602]]\n"
          ]
        },
        {
          "output_type": "execute_result",
          "data": {
            "text/plain": [
              "<matplotlib.axes._subplots.AxesSubplot at 0x7fac202ed210>"
            ]
          },
          "metadata": {},
          "execution_count": 48
        },
        {
          "output_type": "display_data",
          "data": {
            "image/png": "[encoded data removed]",
            "text/plain": [
              "<Figure size 432x288 with 2 Axes>"
            ]
          },
          "metadata": {
            "needs_background": "light"
          }
        }
      ]
    },
    {
      "cell_type": "code",
      "metadata": {
        "colab": {
          "base_uri": "https://localhost:8080/",
          "height": 338
        },
        "id": "LvPTz6v0596s",
        "outputId": "6eb7c1bf-2c97-4b85-bb41-f156f54289d1"
      },
      "source": [
        "# KNN\n",
        "\n",
        "clf_report_knn = classification_report(y_test, knn_ypred, target_names=targetNames, output_dict= True)\n",
        "cleaned_report_knn = {}\n",
        "\n",
        "cleaned_report_knn['Real News'] = clf_report_knn['Real News']\n",
        "cleaned_report_knn['Fake News'] = clf_report_knn['Fake News']\n",
        "\n",
        "print('For KNN, Confusion Matrix: ')\n",
        "print(cm_knn)\n",
        "sns.heatmap(pd.DataFrame(cleaned_report_knn), annot=True, vmax=1.0, cmap=\"BuPu\")"
      ],
      "execution_count": null,
      "outputs": [
        {
          "output_type": "stream",
          "name": "stdout",
          "text": [
            "For KNN, Confusion Matrix: \n",
            "[[581  46]\n",
            " [239 418]]\n"
          ]
        },
        {
          "output_type": "execute_result",
          "data": {
            "text/plain": [
              "<matplotlib.axes._subplots.AxesSubplot at 0x7fac1dd35d10>"
            ]
          },
          "metadata": {},
          "execution_count": 49
        },
        {
          "output_type": "display_data",
          "data": {
            "image/png": "[encoded data removed]",
            "text/plain": [
              "<Figure size 432x288 with 2 Axes>"
            ]
          },
          "metadata": {
            "needs_background": "light"
          }
        }
      ]
    },
    {
      "cell_type": "code",
      "metadata": {
        "colab": {
          "base_uri": "https://localhost:8080/",
          "height": 338
        },
        "id": "4BHOF37H5-Ca",
        "outputId": "40fddd18-9dea-4380-f116-7950c9deed8c"
      },
      "source": [
        "# Decision Tree\n",
        "\n",
        "clf_report_dtree = classification_report(y_test, dtree_ypred, target_names=targetNames, output_dict= True)\n",
        "cleaned_report_dtree = {}\n",
        "\n",
        "cleaned_report_dtree['Real News'] = clf_report_dtree['Real News']\n",
        "cleaned_report_dtree['Fake News'] = clf_report_dtree['Fake News']\n",
        "\n",
        "print('For Decision Tree, Confusion Matrix: ')\n",
        "print(cm_dtree)\n",
        "sns.heatmap(pd.DataFrame(cleaned_report_dtree), annot=True, vmax=1.0, cmap=\"BuPu\")"
      ],
      "execution_count": null,
      "outputs": [
        {
          "output_type": "stream",
          "name": "stdout",
          "text": [
            "For Decision Tree, Confusion Matrix: \n",
            "[[549  78]\n",
            " [ 82 575]]\n"
          ]
        },
        {
          "output_type": "execute_result",
          "data": {
            "text/plain": [
              "<matplotlib.axes._subplots.AxesSubplot at 0x7fac1dd350d0>"
            ]
          },
          "metadata": {},
          "execution_count": 50
        },
        {
          "output_type": "display_data",
          "data": {
            "image/png": "[encoded data removed]",
            "text/plain": [
              "<Figure size 432x288 with 2 Axes>"
            ]
          },
          "metadata": {
            "needs_background": "light"
          }
        }
      ]
    },
    {
      "cell_type": "code",
      "metadata": {
        "colab": {
          "base_uri": "https://localhost:8080/",
          "height": 338
        },
        "id": "GoPeWUwo5-Ij",
        "outputId": "99b2e2ff-b205-4961-cca7-d603ac8a97ec"
      },
      "source": [
        "# Random Forest\n",
        "\n",
        "clf_report_rfm = classification_report(y_test, rfm_ypred, target_names=targetNames, output_dict= True)\n",
        "cleaned_report_rfm = {}\n",
        "\n",
        "cleaned_report_rfm['Real News'] = clf_report_rfm['Real News']\n",
        "cleaned_report_rfm['Fake News'] = clf_report_rfm['Fake News']\n",
        "\n",
        "print('For Random Forest, Confusion Matrix: ')\n",
        "print(cm_rfm)\n",
        "sns.heatmap(pd.DataFrame(cleaned_report_rfm), annot=True, vmax=1.0, cmap=\"BuPu\")"
      ],
      "execution_count": null,
      "outputs": [
        {
          "output_type": "stream",
          "name": "stdout",
          "text": [
            "For Random Forest, Confusion Matrix: \n",
            "[[555  72]\n",
            " [ 49 608]]\n"
          ]
        },
        {
          "output_type": "execute_result",
          "data": {
            "text/plain": [
              "<matplotlib.axes._subplots.AxesSubplot at 0x7fac1dbb6610>"
            ]
          },
          "metadata": {},
          "execution_count": 51
        },
        {
          "output_type": "display_data",
          "data": {
            "image/png": "[encoded data removed]",
            "text/plain": [
              "<Figure size 432x288 with 2 Axes>"
            ]
          },
          "metadata": {
            "needs_background": "light"
          }
        }
      ]
    },
    {
      "cell_type": "code",
      "metadata": {
        "colab": {
          "base_uri": "https://localhost:8080/",
          "height": 338
        },
        "id": "0_QVmzdL5-O3",
        "outputId": "49770565-a0c7-4a73-83eb-2537127fbccb"
      },
      "source": [
        "# SVM\n",
        "\n",
        "clf_report_svm = classification_report(y_test, svm_ypred, target_names=targetNames, output_dict= True)\n",
        "cleaned_report_svm = {}\n",
        "\n",
        "cleaned_report_svm['Real News'] = clf_report_svm['Real News']\n",
        "cleaned_report_svm['Fake News'] = clf_report_svm['Fake News']\n",
        "\n",
        "print('For SVM, Confusion Matrix: ')\n",
        "print(cm_svm)\n",
        "sns.heatmap(pd.DataFrame(cleaned_report_svm), annot=True, vmax=1.0, cmap=\"BuPu\")"
      ],
      "execution_count": null,
      "outputs": [
        {
          "output_type": "stream",
          "name": "stdout",
          "text": [
            "For SVM, Confusion Matrix: \n",
            "[[583  44]\n",
            " [ 57 600]]\n"
          ]
        },
        {
          "output_type": "execute_result",
          "data": {
            "text/plain": [
              "<matplotlib.axes._subplots.AxesSubplot at 0x7fac1db3cd50>"
            ]
          },
          "metadata": {},
          "execution_count": 52
        },
        {
          "output_type": "display_data",
          "data": {
            "image/png": "[encoded data removed]",
            "text/plain": [
              "<Figure size 432x288 with 2 Axes>"
            ]
          },
          "metadata": {
            "needs_background": "light"
          }
        }
      ]
    },
    {
      "cell_type": "code",
      "metadata": {
        "colab": {
          "base_uri": "https://localhost:8080/",
          "height": 338
        },
        "id": "o0jUFyV2FSWU",
        "outputId": "906cee22-d821-4290-fcbb-10c489aac2de"
      },
      "source": [
        "# ANN\n",
        "\n",
        "clf_report_ann = classification_report(y_test, ann_ypred, target_names=targetNames, output_dict= True)\n",
        "cleaned_report_ann = {}\n",
        "\n",
        "cleaned_report_ann['Real News'] = clf_report_ann['Real News']\n",
        "cleaned_report_ann['Fake News'] = clf_report_ann['Fake News']\n",
        "\n",
        "print('For ANN, Confusion Matrix: ')\n",
        "print(cm_ann)\n",
        "sns.heatmap(pd.DataFrame(cleaned_report_ann), annot=True, vmax=1.0, cmap=\"BuPu\")"
      ],
      "execution_count": null,
      "outputs": [
        {
          "output_type": "stream",
          "name": "stdout",
          "text": [
            "For ANN, Confusion Matrix: \n",
            "[[558  69]\n",
            " [ 47 610]]\n"
          ]
        },
        {
          "output_type": "execute_result",
          "data": {
            "text/plain": [
              "<matplotlib.axes._subplots.AxesSubplot at 0x7fac1da85090>"
            ]
          },
          "metadata": {},
          "execution_count": 53
        },
        {
          "output_type": "display_data",
          "data": {
            "image/png": "[encoded data removed]",
            "text/plain": [
              "<Figure size 432x288 with 2 Axes>"
            ]
          },
          "metadata": {
            "needs_background": "light"
          }
        }
      ]
    },
    {
      "cell_type": "markdown",
      "metadata": {
        "id": "HraptCX_9vMn"
      },
      "source": [
        "## Visualization of Algorithm Evaluation Metrics"
      ]
    },
    {
      "cell_type": "code",
      "metadata": {
        "id": "RyFKkS3b5-U5"
      },
      "source": [
        "accuracies = {\"LR\": acc_lr,  \n",
        "             \"Naive\": acc_nb, \n",
        "             \"SGD\": acc_sgd,\n",
        "             \"KNN\": acc_knn, \n",
        "             \"DT\": acc_dtree,\n",
        "            \"RFM\": acc_rfm,\n",
        "            \"SVM\": acc_svm,\n",
        "            \"ANN\": acc_ann \n",
        "             }\n",
        "\n",
        "precisions = {\"LR\": pre_lr,  \n",
        "             \"Naive\": pre_nb, \n",
        "             \"SGD\": pre_sgd,\n",
        "             \"KNN\": pre_knn, \n",
        "             \"DT\": pre_dtree,\n",
        "            \"RFM\": pre_rfm,\n",
        "            \"SVM\": pre_svm,\n",
        "            \"ANN\": pre_ann\n",
        "             }\n",
        "\n",
        "recalls = {\"LR\": rec_lr,  \n",
        "             \"Naive\": rec_nb, \n",
        "             \"SGD\": rec_sgd,\n",
        "             \"KNN\": rec_knn, \n",
        "             \"DT\": rec_dtree,\n",
        "            \"RFM\": rec_rfm,\n",
        "            \"SVM\": rec_svm,\n",
        "           \"ANN\": rec_ann \n",
        "             }\n",
        "\n",
        "f1s = {\"LR\": f1_lr,  \n",
        "        \"Naive\": f1_nb, \n",
        "        \"SGD\": f1_sgd,\n",
        "        \"KNN\": f1_knn, \n",
        "        \"DT\": f1_dtree,\n",
        "      \"RFM\": f1_rfm,\n",
        "      \"SVM\": f1_svm,\n",
        "       \"ANN\": f1_ann \n",
        "        }"
      ],
      "execution_count": null,
      "outputs": []
    },
    {
      "cell_type": "code",
      "metadata": {
        "colab": {
          "base_uri": "https://localhost:8080/"
        },
        "id": "qXjKFYz-5-bM",
        "outputId": "fd47d3ac-dcde-47dd-d6ad-518f5287a617"
      },
      "source": [
        "print(\"Classification models in descending order of Accuracy:\")\n",
        "sorted(accuracies.items(), key=lambda x: x[1],reverse=True)"
      ],
      "execution_count": null,
      "outputs": [
        {
          "output_type": "stream",
          "name": "stdout",
          "text": [
            "Classification models in descending order of Accuracy:\n"
          ]
        },
        {
          "output_type": "execute_result",
          "data": {
            "text/plain": [
              "[('LR', 0.927570093457944),\n",
              " ('SVM', 0.9213395638629284),\n",
              " ('SGD', 0.910436137071651),\n",
              " ('ANN', 0.9096573208722741),\n",
              " ('RFM', 0.9057632398753894),\n",
              " ('DT', 0.8753894080996885),\n",
              " ('Naive', 0.8714953271028038),\n",
              " ('KNN', 0.7780373831775701)]"
            ]
          },
          "metadata": {},
          "execution_count": 55
        }
      ]
    },
    {
      "cell_type": "code",
      "metadata": {
        "colab": {
          "base_uri": "https://localhost:8080/",
          "height": 350
        },
        "id": "WdHh3B2W5-hY",
        "outputId": "54a44743-7f66-4840-9f4e-1038aea6fbd9"
      },
      "source": [
        "lists = sorted(accuracies.items(), key=lambda x: x[1]*100) # sorted by key, return a list of tuples\n",
        "\n",
        "plt.figure(figsize=(8,5))\n",
        "plt.bar(*zip(*lists), color=\"coral\")\n",
        "plt.ylim(0,1)\n",
        "plt.title('Classification Models vs Accuracy')\n",
        "plt.xlabel('Classification Models')\n",
        "plt.ylabel('Accuracy')\n",
        "plt.show()"
      ],
      "execution_count": null,
      "outputs": [
        {
          "output_type": "display_data",
          "data": {
            "image/png": "[encoded data removed]",
            "text/plain": [
              "<Figure size 576x360 with 1 Axes>"
            ]
          },
          "metadata": {
            "needs_background": "light"
          }
        }
      ]
    },
    {
      "cell_type": "code",
      "metadata": {
        "colab": {
          "base_uri": "https://localhost:8080/"
        },
        "id": "5xrj6u9a5-oA",
        "outputId": "ce4506c9-7790-4edb-fcf3-4668c7c4c116"
      },
      "source": [
        "print(\"Classification models in descending order of Precision:\")\n",
        "sorted(precisions.items(), key=lambda x: x[1],reverse=True)"
      ],
      "execution_count": null,
      "outputs": [
        {
          "output_type": "stream",
          "name": "stdout",
          "text": [
            "Classification models in descending order of Precision:\n"
          ]
        },
        {
          "output_type": "execute_result",
          "data": {
            "text/plain": [
              "[('SVM', 0.9316770186335404),\n",
              " ('LR', 0.9311926605504587),\n",
              " ('SGD', 0.9093655589123867),\n",
              " ('KNN', 0.9008620689655172),\n",
              " ('ANN', 0.898379970544919),\n",
              " ('RFM', 0.8941176470588236),\n",
              " ('Naive', 0.8855799373040752),\n",
              " ('DT', 0.8805513016845329)]"
            ]
          },
          "metadata": {},
          "execution_count": 57
        }
      ]
    },
    {
      "cell_type": "code",
      "metadata": {
        "colab": {
          "base_uri": "https://localhost:8080/",
          "height": 350
        },
        "id": "O95b0MlU8PzB",
        "outputId": "90cd0611-c770-4e19-a335-348d40e4349f"
      },
      "source": [
        "lists = sorted(precisions.items(), key=lambda x: x[1]*100) # sorted by key, return a list of tuples\n",
        "\n",
        "plt.figure(figsize=(8,5))\n",
        "plt.bar(*zip(*lists), color=\"limegreen\")\n",
        "plt.ylim(0,1)\n",
        "plt.title('Classification Models vs Precision')\n",
        "plt.xlabel('Classification Models')\n",
        "plt.ylabel('Precision')\n",
        "plt.show()"
      ],
      "execution_count": null,
      "outputs": [
        {
          "output_type": "display_data",
          "data": {
            "image/png": "[encoded data removed]",
            "text/plain": [
              "<Figure size 576x360 with 1 Axes>"
            ]
          },
          "metadata": {
            "needs_background": "light"
          }
        }
      ]
    },
    {
      "cell_type": "code",
      "metadata": {
        "colab": {
          "base_uri": "https://localhost:8080/"
        },
        "id": "OtgDdHOv8QA5",
        "outputId": "7c79e748-6dc8-4243-e2fa-09e11de1365d"
      },
      "source": [
        "print(\"Classification models in descending order of Recall:\")\n",
        "sorted(recalls.items(), key=lambda x: x[1],reverse=True)"
      ],
      "execution_count": null,
      "outputs": [
        {
          "output_type": "stream",
          "name": "stdout",
          "text": [
            "Classification models in descending order of Recall:\n"
          ]
        },
        {
          "output_type": "execute_result",
          "data": {
            "text/plain": [
              "[('ANN', 0.928462709284627),\n",
              " ('LR', 0.9269406392694064),\n",
              " ('RFM', 0.9254185692541856),\n",
              " ('SGD', 0.9162861491628614),\n",
              " ('SVM', 0.91324200913242),\n",
              " ('DT', 0.8751902587519026),\n",
              " ('Naive', 0.8599695585996956),\n",
              " ('KNN', 0.6362252663622526)]"
            ]
          },
          "metadata": {},
          "execution_count": 59
        }
      ]
    },
    {
      "cell_type": "code",
      "metadata": {
        "colab": {
          "base_uri": "https://localhost:8080/",
          "height": 350
        },
        "id": "jolwb4898QPA",
        "outputId": "7cc900f2-7fdd-4095-bdbf-5a2113f9c102"
      },
      "source": [
        "lists = sorted(recalls.items(), key=lambda x: x[1]*100) # sorted by key, return a list of tuples\n",
        "\n",
        "plt.figure(figsize=(8,5))\n",
        "plt.bar(*zip(*lists), color=\"dodgerblue\")\n",
        "plt.ylim(0,1)\n",
        "plt.title('Classification Models vs Recall')\n",
        "plt.xlabel('Classification Models')\n",
        "plt.ylabel('Recall')\n",
        "plt.show()"
      ],
      "execution_count": null,
      "outputs": [
        {
          "output_type": "display_data",
          "data": {
            "image/png": "[encoded data removed]",
            "text/plain": [
              "<Figure size 576x360 with 1 Axes>"
            ]
          },
          "metadata": {
            "needs_background": "light"
          }
        }
      ]
    },
    {
      "cell_type": "code",
      "metadata": {
        "colab": {
          "base_uri": "https://localhost:8080/"
        },
        "id": "7c4kFVt58QfZ",
        "outputId": "a4108112-abf0-4798-e3e0-ae6724072e18"
      },
      "source": [
        "print(\"Classification models in descending order of F1:\")\n",
        "sorted(f1s.items(), key=lambda x: x[1],reverse=True)"
      ],
      "execution_count": null,
      "outputs": [
        {
          "output_type": "stream",
          "name": "stdout",
          "text": [
            "Classification models in descending order of F1:\n"
          ]
        },
        {
          "output_type": "execute_result",
          "data": {
            "text/plain": [
              "[('LR', 0.9290617848970252),\n",
              " ('SVM', 0.9223674096848578),\n",
              " ('ANN', 0.9131736526946107),\n",
              " ('SGD', 0.9128127369219106),\n",
              " ('RFM', 0.9094988780852655),\n",
              " ('DT', 0.8778625954198473),\n",
              " ('Naive', 0.8725868725868726),\n",
              " ('KNN', 0.7457627118644068)]"
            ]
          },
          "metadata": {},
          "execution_count": 61
        }
      ]
    },
    {
      "cell_type": "code",
      "metadata": {
        "colab": {
          "base_uri": "https://localhost:8080/",
          "height": 350
        },
        "id": "LpOhcPx05-uL",
        "outputId": "9cc51a62-3c45-4d35-e568-cb40525a9c42"
      },
      "source": [
        "lists = sorted(f1s.items(), key=lambda x: x[1]*100) # sorted by key, return a list of tuples\n",
        "\n",
        "plt.figure(figsize=(8,5))\n",
        "plt.bar(*zip(*lists), color=\"darkmagenta\")\n",
        "plt.ylim(0,1)\n",
        "plt.title('Classification Models vs F1')\n",
        "plt.xlabel('Classification Models')\n",
        "plt.ylabel('F1')\n",
        "plt.show()"
      ],
      "execution_count": null,
      "outputs": [
        {
          "output_type": "display_data",
          "data": {
            "image/png": "[encoded data removed]",
            "text/plain": [
              "<Figure size 576x360 with 1 Axes>"
            ]
          },
          "metadata": {
            "needs_background": "light"
          }
        }
      ]
    },
    {
      "cell_type": "markdown",
      "metadata": {
        "id": "kXwH9Hd4n95r"
      },
      "source": [
        "### Save the model as a .h5 file\n",
        "\n",
        "Since this model has the highest accuracy, we will be using this for the prediction during the deployment of our application."
      ]
    },
    {
      "cell_type": "code",
      "metadata": {
        "colab": {
          "base_uri": "https://localhost:8080/"
        },
        "id": "s_UwgVoiIzpa",
        "outputId": "ed0c08ef-43a0-4531-957b-a31cc6c212cd"
      },
      "source": [
        "#Using a Logistic Regression Model\n",
        "model = LogisticRegression()\n",
        "log_reg = model.fit(x_train,y_train)\n",
        "logRegre_ypred= model.predict(x_test)"
      ],
      "execution_count": null,
      "outputs": [
        {
          "output_type": "stream",
          "name": "stderr",
          "text": [
            "/usr/local/lib/python3.7/dist-packages/sklearn/utils/validation.py:985: DataConversionWarning: A column-vector y was passed when a 1d array was expected. Please change the shape of y to (n_samples, ), for example using ravel().\n",
            "  y = column_or_1d(y, warn=True)\n"
          ]
        }
      ]
    },
    {
      "cell_type": "code",
      "metadata": {
        "id": "nsMHOb7jnZp6"
      },
      "source": [
        "from keras.models import load_model\n",
        "import pickle\n",
        "\n",
        "pickle.dump(model, open(\"fake_news.h5\", 'wb'))\n",
        "with open('vectorizer_lr', 'wb') as fin:\n",
        "    pickle.dump(model, fin)"
      ],
      "execution_count": null,
      "outputs": []
    },
    {
      "cell_type": "markdown",
      "metadata": {
        "id": "Jgx3PvEZpIdP"
      },
      "source": [
        "## Resources for Prediction Verification"
      ]
    },
    {
      "cell_type": "code",
      "metadata": {
        "colab": {
          "base_uri": "https://localhost:8080/"
        },
        "id": "mIdizvCTgPQ4",
        "outputId": "66d4e011-f5e8-4a0a-af0f-09ec6900c99f"
      },
      "source": [
        "!pip install beautifulsoup4\n",
        "!pip install google\n",
        "from googlesearch import search"
      ],
      "execution_count": null,
      "outputs": [
        {
          "output_type": "stream",
          "name": "stdout",
          "text": [
            "Requirement already satisfied: beautifulsoup4 in /usr/local/lib/python3.7/dist-packages (4.6.3)\n",
            "Requirement already satisfied: google in /usr/local/lib/python3.7/dist-packages (2.0.3)\n",
            "Requirement already satisfied: beautifulsoup4 in /usr/local/lib/python3.7/dist-packages (from google) (4.6.3)\n"
          ]
        }
      ]
    },
    {
      "cell_type": "code",
      "metadata": {
        "colab": {
          "base_uri": "https://localhost:8080/"
        },
        "id": "9JCBjRgfojNH",
        "outputId": "15c4deba-fd09-4c44-ff59-ded58ff634db"
      },
      "source": [
        "print(\"Here are some resources that could verify our prediction: \")\n",
        "query = headline1 #enter headline here\n",
        "for j in search(query, tld=\"com\", stop=5, pause=1):\n",
        "  print(j)"
      ],
      "execution_count": null,
      "outputs": [
        {
          "output_type": "stream",
          "name": "stdout",
          "text": [
            "Here are some resources that could verify our prediction: \n",
            "https://abcnews.go.com/Health/wireStory/uk-imposes-coronavirus-restrictions-england-72907229\n",
            "https://www.bbc.com/news/uk-54142699\n",
            "https://www.bbc.com/news/uk-scotland-54140766\n",
            "https://www.tribuneindia.com/news/world/rule-of-six-comes-in-to-limit-gatherings-in-englands-covid-19-fight-141148\n",
            "https://www.unhcr.org/56bb369c9.pdf\n"
          ]
        }
      ]
    },
    {
      "cell_type": "code",
      "metadata": {
        "id": "aHAIQ8qgQNtV"
      },
      "source": [
        ""
      ],
      "execution_count": null,
      "outputs": []
    }
  ]
}